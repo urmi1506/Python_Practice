{
 "cells": [
  {
   "cell_type": "code",
   "execution_count": null,
   "id": "a023c4a2",
   "metadata": {},
   "outputs": [],
   "source": [
    "class emp:\n",
    "    _Var = 9\n",
    "    def __init__(self,var2):\n",
    "        self._Var2 = var2\n",
    "\n",
    "    def set_valiable(self,v1,v2):\n",
    "        self._Var = v1\n",
    "        self._Var2 = v2\n",
    "        # print(\"set_valiable called \" + str(self._Var) + \" \" + str(self._Var2))\n",
    "    def subtract_2(self,v1, v2=0 ):\n",
    "        return v1 - v2\n",
    "        self._Var -= v1\n",
    "        \n",
    "        # print(\"subtract_2 called \" + str(self._Var) + \" \" + str(self._Var2))\n",
    "    def add_2(self,v1, v2=0 ):\n",
    "        return v1 + v2\n",
    "        self._Var += v1\n",
    "        \n",
    "        # print(\"add_2 called \" + str(self._Var) + \" \" + str(self._Var2))\n",
    "\n",
    "    @classmethod\n",
    "    def set_class_function(cls,v1):\n",
    "        cls.add_2 = cls.subtract_2\n",
    "        \n",
    "    def print_valiable(self):\n",
    "        print(\"print_valiable called \" + str(self._Var) + \" \" + str(self._Var2))"
   ]
  },
  {
   "cell_type": "code",
   "execution_count": 34,
   "id": "dca04f96",
   "metadata": {},
   "outputs": [
    {
     "data": {
      "text/plain": [
       "-2"
      ]
     },
     "execution_count": 34,
     "metadata": {},
     "output_type": "execute_result"
    }
   ],
   "source": [
    "emp1 = emp(2)\n",
    "emp1.add_2(3,5)\n",
    "emp1.set_class_function(5)\n",
    "emp1.add_2(3,5)"
   ]
  },
  {
   "cell_type": "code",
   "execution_count": 22,
   "id": "435a2c67",
   "metadata": {},
   "outputs": [],
   "source": [
    "emp2 = emp(5)"
   ]
  },
  {
   "cell_type": "code",
   "execution_count": null,
   "id": "a2e921b8",
   "metadata": {},
   "outputs": [],
   "source": [
    "emp2.print_valiable()\n",
    "emp2.set_valiable(6,7)\n",
    "emp2.print_valiable()"
   ]
  },
  {
   "cell_type": "code",
   "execution_count": 27,
   "id": "86433c92",
   "metadata": {},
   "outputs": [
    {
     "name": "stdout",
     "output_type": "stream",
     "text": [
      "print_valiable called 9 8\n"
     ]
    }
   ],
   "source": [
    "emp3 = emp(8)\n",
    "emp3.set_class_valiable(9)\n",
    "emp3.print_valiable()"
   ]
  },
  {
   "cell_type": "code",
   "execution_count": 28,
   "id": "c3a0405d",
   "metadata": {},
   "outputs": [
    {
     "ename": "AttributeError",
     "evalue": "'emp' object has no attribute 'add_2'",
     "output_type": "error",
     "traceback": [
      "\u001b[1;31m---------------------------------------------------------------------------\u001b[0m",
      "\u001b[1;31mAttributeError\u001b[0m                            Traceback (most recent call last)",
      "Cell \u001b[1;32mIn[28], line 2\u001b[0m\n\u001b[0;32m      1\u001b[0m emp4 \u001b[38;5;241m=\u001b[39m emp(\u001b[38;5;241m10\u001b[39m)\n\u001b[1;32m----> 2\u001b[0m \u001b[43memp4\u001b[49m\u001b[38;5;241;43m.\u001b[39;49m\u001b[43madd_2\u001b[49m(\u001b[38;5;241m2\u001b[39m,\u001b[38;5;241m8\u001b[39m)\n",
      "\u001b[1;31mAttributeError\u001b[0m: 'emp' object has no attribute 'add_2'"
     ]
    }
   ],
   "source": [
    "emp4 = emp(10)\n",
    "emp4.add_2(2,8)"
   ]
  },
  {
   "cell_type": "code",
   "execution_count": null,
   "id": "cbf20cde",
   "metadata": {},
   "outputs": [
    {
     "name": "stdout",
     "output_type": "stream",
     "text": [
      "print_valiable called 40 5\n",
      "print_valiable called 40 15\n"
     ]
    }
   ],
   "source": [
    "class student:\n",
    "    _Var = 12\n",
    "    def __init__(self, var2):\n",
    "        self._Var2 = var2\n",
    "\n",
    "    @classmethod\n",
    "    def set_valiable(cls, v1, v2):\n",
    "        cls._Var = v1\n",
    "        cls._Var2 = v2\n",
    "        # print(\"set_valiable called \" + str(self._Var) + \" \" + str(self._Var2))\n",
    "\n",
    "    def add_2(self, v1, v2=0):\n",
    "        return v1 + v2\n",
    "\n",
    "    def print_valiable(self):\n",
    "        print(\"print_valiable called \" + str(self._Var) + \" \" + str(self._Var2))\n",
    "    \n",
    "\n",
    "obj = student(5)\n",
    "obj.set_valiable(40, 20)\n",
    "obj.print_valiable()\n",
    "\n",
    "\n",
    "emp2 = student(15)\n",
    "emp2.print_valiable()\n",
    "\n",
    "\n",
    "\n"
   ]
  }
 ],
 "metadata": {
  "kernelspec": {
   "display_name": "Python 3",
   "language": "python",
   "name": "python3"
  },
  "language_info": {
   "codemirror_mode": {
    "name": "ipython",
    "version": 3
   },
   "file_extension": ".py",
   "mimetype": "text/x-python",
   "name": "python",
   "nbconvert_exporter": "python",
   "pygments_lexer": "ipython3",
   "version": "3.12.2"
  }
 },
 "nbformat": 4,
 "nbformat_minor": 5
}
